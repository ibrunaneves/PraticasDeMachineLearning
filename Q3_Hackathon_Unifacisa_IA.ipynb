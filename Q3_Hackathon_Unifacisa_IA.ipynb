{
  "nbformat": 4,
  "nbformat_minor": 0,
  "metadata": {
    "colab": {
      "provenance": [],
      "authorship_tag": "ABX9TyOrlec1Jeql0xhR1aCmqs3f",
      "include_colab_link": true
    },
    "kernelspec": {
      "name": "python3",
      "display_name": "Python 3"
    },
    "language_info": {
      "name": "python"
    }
  },
  "cells": [
    {
      "cell_type": "markdown",
      "metadata": {
        "id": "view-in-github",
        "colab_type": "text"
      },
      "source": [
        "<a href=\"https://colab.research.google.com/github/ibrunaneves/PraticasDeMachineLearning/blob/main/Q3_Hackathon_Unifacisa_IA.ipynb\" target=\"_parent\"><img src=\"https://colab.research.google.com/assets/colab-badge.svg\" alt=\"Open In Colab\"/></a>"
      ]
    },
    {
      "cell_type": "code",
      "execution_count": 1,
      "metadata": {
        "id": "IAyDiAddTN42"
      },
      "outputs": [],
      "source": [
        "# Instituição - UNIFACISA\n",
        "# Autor: Bruna Neves - 27/03/25"
      ]
    },
    {
      "cell_type": "markdown",
      "source": [
        "**Questão 3 (fácil) **\n",
        "\n",
        "Agrupamento de Clientes de um E-commerce Imagine que você trabalha para um e-commerce e deseja segmentar os clientes em diferentes grupos de comportamento com base em dados de compras.\n",
        "\n",
        "Tarefas: Utilize um dataset que contenha informações como quantidade de compras, valor gasto, frequência de compra. Aplique o algoritmo K-Means para segmentação dos clientes. Utilize o método do cotovelo (Elbow Method) para definir o melhor número de clusters. Visualize os grupos de clientes em um gráfico de dispersão.\n",
        "\n",
        "Pergunta: Quantos clusters você definiu como ideal e quais foram os principais padrões encontrados em cada grupo?"
      ],
      "metadata": {
        "id": "_Ui-Wri3TTo4"
      }
    },
    {
      "cell_type": "code",
      "source": [
        "# Importando as bibliotecas\n",
        "import pandas as pd  # biblioteca para manipulação e análise de dados em tabelas (estilo Excel)\n",
        "import numpy as np  # biblioteca para cálculos numéricos e geração de dados simulados\n",
        "import matplotlib.pyplot as plt  # biblioteca para criação de gráficos e visualizações\n",
        "\n",
        "from sklearn.cluster import KMeans  # algoritmo de agrupamento não supervisionado (K-Means)\n",
        "from sklearn.preprocessing import StandardScaler  # normalizador para padronizar colunas numéricas\n",
        "\n",
        "# Definindo o número de clientes simulados\n",
        "num_clients = 1000\n",
        "\n",
        "# Gerando dados aleatórios e consistentes (semente)\n",
        "np.random.seed(42)\n",
        "\n",
        "# Simulando os dados:\n",
        "quantidade_compras = np.random.randint(1, 51, num_clients)  # entre 1 e 50 compras\n",
        "valor_gasto = np.random.uniform(10, 2000, num_clients)       # entre R$10 e R$2000\n",
        "frequencia_compra = np.random.randint(1, 21, num_clients)    # entre 1 e 20 compras por mês\n",
        "\n",
        "# Criando o DataFrame\n",
        "df = pd.DataFrame({\n",
        "    \"Cliente_id\": [f\"Cliente_{i+1}\" for i in range(num_clients)],\n",
        "    \"quantidade_compras\": quantidade_compras,\n",
        "    \"valor_gasto\": valor_gasto,\n",
        "    \"frequencia_compra\": frequencia_compra\n",
        "})\n",
        "\n",
        "# Visualizando os primeiros registros\n",
        "df.head()\n",
        "\n",
        "# Salvando em CSV (caso queira reutilizar ou importar depois)\n",
        "df.to_csv(\"ecommerce_data.csv\", index=False)\n",
        "\n",
        "print(\"Base de dados 'ecommerce_data.csv' gerada com sucesso!\")\n"
      ],
      "metadata": {
        "colab": {
          "base_uri": "https://localhost:8080/"
        },
        "id": "siVe8XWcTPBN",
        "outputId": "8cd77388-530e-4f35-cfd7-68d710a1cf35"
      },
      "execution_count": 7,
      "outputs": [
        {
          "output_type": "stream",
          "name": "stdout",
          "text": [
            "Base de dados 'ecommerce_data.csv' gerada com sucesso!\n"
          ]
        }
      ]
    },
    {
      "cell_type": "code",
      "source": [],
      "metadata": {
        "id": "95P6sO8LXaN7"
      },
      "execution_count": null,
      "outputs": []
    }
  ]
}