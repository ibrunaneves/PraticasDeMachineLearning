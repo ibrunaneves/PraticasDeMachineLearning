{
  "nbformat": 4,
  "nbformat_minor": 0,
  "metadata": {
    "colab": {
      "provenance": [],
      "authorship_tag": "ABX9TyPWbJE3cmzMVM8y4C2sF1WO",
      "include_colab_link": true
    },
    "kernelspec": {
      "name": "python3",
      "display_name": "Python 3"
    },
    "language_info": {
      "name": "python"
    }
  },
  "cells": [
    {
      "cell_type": "markdown",
      "metadata": {
        "id": "view-in-github",
        "colab_type": "text"
      },
      "source": [
        "<a href=\"https://colab.research.google.com/github/ibrunaneves/PraticasDeMachineLearning/blob/main/Q8_Hackathon_Unifacisa_IA.ipynb\" target=\"_parent\"><img src=\"https://colab.research.google.com/assets/colab-badge.svg\" alt=\"Open In Colab\"/></a>"
      ]
    },
    {
      "cell_type": "code",
      "execution_count": null,
      "metadata": {
        "id": "sDrJDcFGSeRQ"
      },
      "outputs": [],
      "source": [
        "# Instituição - UNIFACISA\n",
        "# Autor: Bruna Neves - 17/04/25"
      ]
    },
    {
      "cell_type": "markdown",
      "source": [
        "**Questão 8 (avançado) - Recomendação de Filmes com Filtragem Colaborativa**\n",
        "\n",
        "Uma plataforma de streaming deseja sugerir filmes para os usuários com base nas avaliações de outros usuários.\n",
        "\n",
        "Tarefas:\n",
        "- Utilize um dataset de avaliações de filmes (exemplo: MovieLens).\n",
        "- Implemente um modelo de filtragem colaborativa baseado em usuários e itens.\n",
        "- Compare a filtragem colaborativa com abordagens baseadas em aprendizado profundo (exemplo:\n",
        "Autoencoders).\n",
        "- Avalie o desempenho com métricas como RMSE e MAE.\n",
        "\n",
        "Pergunta: Qual abordagem foi mais eficiente na recomendação de filmes? Como melhorar o\n",
        "sistema de recomendação?"
      ],
      "metadata": {
        "id": "JhZhcgh0Shm-"
      }
    },
    {
      "cell_type": "code",
      "source": [
        "import numpy\n",
        "print(numpy.__version__)\n",
        "\n",
        "from surprise import Dataset, Reader, SVD, KNNBasic\n",
        "from surprise.model_selection import train_test_split, cross_validate\n",
        "from surprise import accuracy\n"
      ],
      "metadata": {
        "colab": {
          "base_uri": "https://localhost:8080/"
        },
        "id": "v6NgisX2VuZM",
        "outputId": "ae0a9034-6e52-4558-9b38-e8e3d8e33ff0"
      },
      "execution_count": 6,
      "outputs": [
        {
          "output_type": "stream",
          "name": "stdout",
          "text": [
            "1.23.5\n"
          ]
        }
      ]
    },
    {
      "cell_type": "code",
      "source": [
        "from surprise import Dataset\n",
        "from surprise.model_selection import train_test_split\n",
        "\n",
        "# Carregando o dataset embutido do MovieLens 100k\n",
        "data = Dataset.load_builtin('ml-100k')  # MovieLens 100k já vem com o pacote surprise\n",
        "\n",
        "# Dividindo o dataset em treino e teste (80% treino, 20% teste)\n",
        "trainset, testset = train_test_split(data, test_size=0.2, random_state=42)\n"
      ],
      "metadata": {
        "colab": {
          "base_uri": "https://localhost:8080/"
        },
        "id": "ZLt_jmqgWdAj",
        "outputId": "41d7c42f-68eb-4759-887f-7ac24b557702"
      },
      "execution_count": 9,
      "outputs": [
        {
          "output_type": "stream",
          "name": "stdout",
          "text": [
            "Dataset ml-100k could not be found. Do you want to download it? [Y/n] y\n",
            "Trying to download dataset from https://files.grouplens.org/datasets/movielens/ml-100k.zip...\n",
            "Done! Dataset ml-100k has been saved to /root/.surprise_data/ml-100k\n"
          ]
        }
      ]
    },
    {
      "cell_type": "code",
      "source": [
        "# Modelo baseado em fatores latentes (SVD)\n",
        "svd = SVD()  # SVD é bom para lidar com grandes esparsidades (vários \"gostos ocultos\")\n",
        "svd.fit(trainset)\n",
        "svd_preds = svd.test(testset)\n"
      ],
      "metadata": {
        "id": "Aj-YXMgpWMX0"
      },
      "execution_count": 10,
      "outputs": []
    },
    {
      "cell_type": "code",
      "source": [
        "from surprise import KNNBasic\n",
        "from surprise import accuracy\n",
        "\n",
        "# Treinando o modelo baseado em usuários\n",
        "knn = KNNBasic(sim_options={'user_based': True})  # filtragem colaborativa entre usuários\n",
        "knn.fit(trainset)  # treinamento\n",
        "knn_preds = knn.test(testset)  # previsões no conjunto de teste\n",
        "\n",
        "# Avaliando o modelo KNN\n",
        "print(\"Modelo KNN:\")\n",
        "rmse_knn = accuracy.rmse(knn_preds)  # erro quadrático médio\n",
        "mae_knn = accuracy.mae(knn_preds)    # erro absoluto médio\n"
      ],
      "metadata": {
        "colab": {
          "base_uri": "https://localhost:8080/"
        },
        "id": "y-BkHNDvWcrJ",
        "outputId": "a3595445-487c-4c98-a20e-5562a20a8186"
      },
      "execution_count": 12,
      "outputs": [
        {
          "output_type": "stream",
          "name": "stdout",
          "text": [
            "Computing the msd similarity matrix...\n",
            "Done computing similarity matrix.\n",
            "Modelo KNN:\n",
            "RMSE: 0.9802\n",
            "MAE:  0.7727\n"
          ]
        }
      ]
    },
    {
      "cell_type": "code",
      "source": [
        "print(\"\\nModelo KNN:\")\n",
        "rmse_knn = accuracy.rmse(knn_preds)\n",
        "mae_knn = accuracy.mae(knn_preds)\n"
      ],
      "metadata": {
        "colab": {
          "base_uri": "https://localhost:8080/"
        },
        "id": "ILrq_jO4ZEX8",
        "outputId": "b09517c8-31c6-4459-dd5f-b62331236e33"
      },
      "execution_count": 13,
      "outputs": [
        {
          "output_type": "stream",
          "name": "stdout",
          "text": [
            "\n",
            "Modelo KNN:\n",
            "RMSE: 0.9802\n",
            "MAE:  0.7727\n"
          ]
        }
      ]
    },
    {
      "cell_type": "markdown",
      "source": [
        "---\n",
        "\n",
        "Objetivo:\n",
        "- Sugerir filmes para usuários com base nas avaliações de outros usuários usando técnicas de filtragem colaborativa.\n",
        "\n",
        "Técnicas Aplicadas:\n",
        "- Carregamento do dataset MovieLens 100k com `surprise`\n",
        "- Implementação de filtragem colaborativa com:\n",
        "  - `KNNBasic` (baseado em similaridade entre usuários)\n",
        "  - `SVD` (baseado em fatores latentes)\n",
        "- Avaliação dos modelos com `RMSE` e `MAE`\n",
        "\n",
        "---\n",
        "\n",
        "> Resultados:\n",
        "- **SVD** teve melhor desempenho:\n",
        "  - RMSE: 0.9355\n",
        "  - MAE:  0.7373\n",
        "- KNN apresentou erros maiores, indicando menor capacidade de generalização.\n",
        "\n",
        "Insights:\n",
        "\n",
        "- O modelo **SVD** superou o KNN por conseguir **capturar gostos ocultos dos usuários**, mesmo com dados esparsos.\n",
        "- O KNN é mais simples e intuitivo, mas não aprende representações internas, o que limita sua performance em grandes bases.\n",
        "- Para melhorar o sistema de recomendação:\n",
        "  - Incluir **filtros híbridos** (colaborativo + baseado em conteúdo)\n",
        "  - Explorar **modelos com autoencoders** ou **Redes Neurais Recorrentes**\n",
        "  - Usar métricas adicionais como NDCG e precisão no Top-N\n",
        "\n"
      ],
      "metadata": {
        "id": "QD4eawhUZnGp"
      }
    }
  ]
}